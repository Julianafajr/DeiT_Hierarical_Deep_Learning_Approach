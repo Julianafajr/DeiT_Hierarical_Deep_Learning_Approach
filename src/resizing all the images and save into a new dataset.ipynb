{
 "cells": [
  {
   "cell_type": "code",
   "execution_count": 1,
   "id": "77d7c818",
   "metadata": {},
   "outputs": [],
   "source": [
    "from PIL import Image\n",
    "import os\n",
    "from tqdm import tqdm  # for progress bar\n"
   ]
  },
  {
   "cell_type": "code",
   "execution_count": 2,
   "id": "b874a430",
   "metadata": {},
   "outputs": [],
   "source": [
    "# Base directory where your original data is stored\n",
    "base_dir = r\"C:\\Users\\lenovo\\OneDrive\\Desktop\\Melanoma Disease Classification\\melanoma_imbalanced_dataset\"\n",
    "\n",
    "# New directory where resized images will be saved\n",
    "output_base_dir = r\"C:\\Users\\lenovo\\OneDrive\\Desktop\\Melanoma Disease Classification\\melanoma_resized_dataset\"\n",
    "\n",
    "# Subfolders (same as your class names)\n",
    "subfolders = [\n",
    "    \"melanoma_in_situ\",\n",
    "    \"melanoma_invasive\",\n",
    "    \"nevus\"\n",
    "]\n"
   ]
  },
  {
   "cell_type": "code",
   "execution_count": 3,
   "id": "5b166fd1",
   "metadata": {},
   "outputs": [
    {
     "name": "stdout",
     "output_type": "stream",
     "text": [
      "\n",
      "📂 Processing folder: melanoma_in_situ\n"
     ]
    },
    {
     "name": "stderr",
     "output_type": "stream",
     "text": [
      "100%|████████████████████████████████████████████████████████████████████████████████| 983/983 [04:10<00:00,  3.92it/s]\n"
     ]
    },
    {
     "name": "stdout",
     "output_type": "stream",
     "text": [
      "\n",
      "📂 Processing folder: melanoma_invasive\n"
     ]
    },
    {
     "name": "stderr",
     "output_type": "stream",
     "text": [
      "100%|████████████████████████████████████████████████████████████████████████████████| 797/797 [03:17<00:00,  4.05it/s]\n"
     ]
    },
    {
     "name": "stdout",
     "output_type": "stream",
     "text": [
      "\n",
      "📂 Processing folder: nevus\n"
     ]
    },
    {
     "name": "stderr",
     "output_type": "stream",
     "text": [
      "100%|██████████████████████████████████████████████████████████████████████████████| 9976/9976 [33:26<00:00,  4.97it/s]\n"
     ]
    }
   ],
   "source": [
    "# # Desired size for all images\n",
    "# new_size = (224, 224)\n",
    "\n",
    "# for folder in subfolders:\n",
    "#     input_folder = os.path.join(base_dir, folder)\n",
    "#     output_folder = os.path.join(output_base_dir, folder)\n",
    "    \n",
    "#     # Create output folder if it doesn't exist\n",
    "#     os.makedirs(output_folder, exist_ok=True)\n",
    "    \n",
    "#     print(f\"\\n📂 Processing folder: {folder}\")\n",
    "    \n",
    "#     for file in tqdm(os.listdir(input_folder)):\n",
    "#         input_path = os.path.join(input_folder, file)\n",
    "#         output_path = os.path.join(output_folder, file)\n",
    "\n",
    "#         try:\n",
    "#             with Image.open(input_path) as img:\n",
    "#                 img = img.convert(\"RGB\")  # Ensure consistent color format\n",
    "#                 img = img.resize(new_size)\n",
    "#                 img.save(output_path)\n",
    "#         except Exception as e:\n",
    "#             print(f\"❌ Error processing {input_path}: {e}\")\n"
   ]
  },
  {
   "cell_type": "code",
   "execution_count": 3,
   "id": "1b35678d",
   "metadata": {},
   "outputs": [
    {
     "name": "stdout",
     "output_type": "stream",
     "text": [
      "melanoma_invasive: 797 images\n",
      "melanoma_in_situ: 850 images\n",
      "nevus: 800 images\n"
     ]
    }
   ],
   "source": [
    "import os\n",
    "\n",
    "# Path to your dataset directory\n",
    "base_dir = r\"C:\\Users\\lenovo\\OneDrive\\Desktop\\Melanoma Disease Classification\\melanoma_balanced_resized_verion 04\"\n",
    "\n",
    "# Count images per class\n",
    "for class_name in os.listdir(base_dir):\n",
    "    class_path = os.path.join(base_dir, class_name)\n",
    "    if os.path.isdir(class_path):\n",
    "        image_count = len([\n",
    "            f for f in os.listdir(class_path)\n",
    "            if os.path.isfile(os.path.join(class_path, f))\n",
    "               and f.lower().endswith(('.png', '.jpg', '.jpeg'))\n",
    "        ])\n",
    "        print(f\"{class_name}: {image_count} images\")\n"
   ]
  },
  {
   "cell_type": "markdown",
   "id": "54817e10",
   "metadata": {},
   "source": [
    "#### create another balanced dataset"
   ]
  },
  {
   "cell_type": "code",
   "execution_count": 2,
   "id": "8ecfbeef",
   "metadata": {},
   "outputs": [
    {
     "name": "stdout",
     "output_type": "stream",
     "text": [
      "melanoma_invasive: kept 797 images (from 797)\n",
      "melanoma_in_situ: kept 850 images (from 983)\n",
      "nevus: kept 800 images (from 8876)\n",
      "\n",
      "✅ Balanced dataset created at: C:\\Users\\lenovo\\OneDrive\\Desktop\\Melanoma Disease Classification\\melanoma_balanced_dataset\n"
     ]
    }
   ],
   "source": [
    "# import os\n",
    "# import random\n",
    "# import shutil\n",
    "\n",
    "# # Original dataset path\n",
    "# base_dir = r\"C:\\Users\\lenovo\\OneDrive\\Desktop\\Melanoma Disease Classification\\melanoma_resized_dataset version 03\"\n",
    "\n",
    "# # Output balanced dataset path\n",
    "# balanced_dir = r\"C:\\Users\\lenovo\\OneDrive\\Desktop\\Melanoma Disease Classification\\melanoma_balanced_dataset\"\n",
    "\n",
    "# # Desired counts per class\n",
    "# target_counts = {\n",
    "#     \"melanoma_invasive\": 797,   # keep all\n",
    "#     \"melanoma_in_situ\": 850,    # reduce slightly\n",
    "#     \"nevus\": 800                # heavily reduce\n",
    "# }\n",
    "\n",
    "# # Create output base folder\n",
    "# os.makedirs(balanced_dir, exist_ok=True)\n",
    "\n",
    "# for class_name, target_count in target_counts.items():\n",
    "#     src_dir = os.path.join(base_dir, class_name)\n",
    "#     dst_dir = os.path.join(balanced_dir, class_name)\n",
    "#     os.makedirs(dst_dir, exist_ok=True)\n",
    "\n",
    "#     # Get all image files\n",
    "#     images = [f for f in os.listdir(src_dir)\n",
    "#               if f.lower().endswith(('.png', '.jpg', '.jpeg'))]\n",
    "\n",
    "#     # Randomly sample images\n",
    "#     if len(images) > target_count:\n",
    "#         selected = random.sample(images, target_count)\n",
    "#     else:\n",
    "#         selected = images  # if fewer than target_count\n",
    "\n",
    "#     # Copy selected images\n",
    "#     for img in selected:\n",
    "#         shutil.copy2(os.path.join(src_dir, img), os.path.join(dst_dir, img))\n",
    "\n",
    "#     print(f\"{class_name}: kept {len(selected)} images (from {len(images)})\")\n",
    "\n",
    "# print(\"\\n✅ Balanced dataset created at:\", balanced_dir)\n"
   ]
  },
  {
   "cell_type": "code",
   "execution_count": null,
   "id": "27c1cd75",
   "metadata": {},
   "outputs": [],
   "source": []
  }
 ],
 "metadata": {
  "kernelspec": {
   "display_name": "Python 3 (ipykernel)",
   "language": "python",
   "name": "python3"
  },
  "language_info": {
   "codemirror_mode": {
    "name": "ipython",
    "version": 3
   },
   "file_extension": ".py",
   "mimetype": "text/x-python",
   "name": "python",
   "nbconvert_exporter": "python",
   "pygments_lexer": "ipython3",
   "version": "3.11.3"
  }
 },
 "nbformat": 4,
 "nbformat_minor": 5
}
